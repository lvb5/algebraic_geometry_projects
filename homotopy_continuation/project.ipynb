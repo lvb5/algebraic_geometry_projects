{
 "cells": [
  {
   "cell_type": "markdown",
   "metadata": {},
   "source": [
    "# Implementing Homotopy Continuation in Julia\n",
    "\n",
    "Say we're interested in solving the system of equations \n",
    "\n",
    "$$\n",
    "\\begin{split}\n",
    "f_1(x, y) & = (x^4 + y^4 − 1)(x^2 + y^2 − 2) + x^5y \\\\\n",
    "f_2(x, y) & = x^2 + 2xy^2 - 2y^2 - \\frac{1}{2}. \n",
    "\\end{split}\n",
    "$$\n",
    "\n",
    "This can very simply be done using hometopy continuation and the package `HometopyContinuation.jl` in `Julia` as follows"
   ]
  },
  {
   "cell_type": "code",
   "execution_count": 1,
   "metadata": {},
   "outputs": [],
   "source": [
    "# load packages\n",
    "using HomotopyContinuation"
   ]
  },
  {
   "cell_type": "code",
   "execution_count": 95,
   "metadata": {},
   "outputs": [
    {
     "name": "stdout",
     "output_type": "stream",
     "text": [
      "\u001b[32mTracking 18 paths... 100%|██████████████████████████████| Time: 0:00:26\u001b[39m\n",
      "\u001b[34m  # paths tracked:                  18\u001b[39m\n",
      "\u001b[34m  # non-singular solutions (real):  18 (4)\u001b[39m\n",
      "\u001b[34m  # singular endpoints (real):      0 (0)\u001b[39m\n",
      "\u001b[34m  # total solutions (real):         18 (4)\u001b[39m\n"
     ]
    },
    {
     "data": {
      "text/plain": [
       "Result with 18 solutions\n",
       "========================\n",
       "• 18 paths tracked\n",
       "• 18 non-singular solutions (4 real)\n",
       "• random_seed: 0x6a9bef16\n",
       "• start_system: :polyhedral\n"
      ]
     },
     "execution_count": 95,
     "metadata": {},
     "output_type": "execute_result"
    }
   ],
   "source": [
    "# declare variables x and y\n",
    "@var x y\n",
    "# define the polynomials\n",
    "f₁ = (x^4 + y^4 - 1) * (x^2 + y^2 - 2) + x^5 * y\n",
    "f₂ = x^2 + 2*x*y^2 - 2*y^2 - 1/2\n",
    "F = System([f₁, f₂])\n",
    "result = solve(F)"
   ]
  },
  {
   "cell_type": "markdown",
   "metadata": {},
   "source": [
    "and we can display the solutions"
   ]
  },
  {
   "cell_type": "code",
   "execution_count": 9,
   "metadata": {},
   "outputs": [
    {
     "data": {
      "text/plain": [
       "18-element Vector{Vector{ComplexF64}}:\n",
       " [0.9443571312488813 + 0.3118635017972661im, 0.32083818529039954 + 0.9677296009728283im]\n",
       " [0.8999179208471728 - 8.474091755303838e-33im, -1.2441827613422727 + 9.244463733058732e-33im]\n",
       " [1.0866676911062136 - 0.3290700669978769im, -0.24048106708661118 + 1.1350215823993672im]\n",
       " [0.06944255588971958 - 1.0734210145259255im, 0.2852544211796043 + 0.7076856100161802im]\n",
       " [0.9443571312488815 - 0.311863501797266im, 0.3208381852903996 - 0.9677296009728285im]\n",
       " [0.8708494909007279 + 0.03055030123533535im, 0.9716347867303131 + 0.21528324968394982im]\n",
       " [-1.0665536440076708 + 0.1424944286215267im, -0.3998429331325364 + 0.07871238147493467im]\n",
       " [-1.671421392838003 + 0.0im, 0.6552051858720408 + 7.52316384526264e-37im]\n",
       " [1.7132941375582666 - 0.5813863945698412im, 0.047514134780854124 + 1.252792951007688im]\n",
       " [1.0866676911062132 + 0.3290700669978767im, -0.24048106708661127 - 1.1350215823993668im]\n",
       " [0.8708494909007278 - 0.03055030123533537im, 0.9716347867303131 - 0.2152832496839498im]\n",
       " [0.8209788924342627 - 1.88079096131566e-36im, -0.6971326459489459 - 6.018531076210112e-36im]\n",
       " [0.06944255588971956 + 1.0734210145259255im, 0.28525442117960437 - 0.7076856100161802im]\n",
       " [0.07565391048031057 + 0.9487419814734106im, -0.24800445792173503 + 0.6838307098593375im]\n",
       " [-0.9368979667963299 + 3.5264830524668625e-38im, 0.312284081738601 + 2.82118644197349e-37im]\n",
       " [-1.0665536440076708 - 0.1424944286215266im, -0.3998429331325363 - 0.0787123814749346im]\n",
       " [0.07565391048031057 - 0.9487419814734106im, -0.24800445792173503 - 0.6838307098593376im]\n",
       " [1.7132941375582666 + 0.5813863945698413im, 0.04751413478085409 - 1.252792951007688im]"
      ]
     },
     "metadata": {},
     "output_type": "display_data"
    }
   ],
   "source": [
    "solutions(result)"
   ]
  },
  {
   "cell_type": "markdown",
   "metadata": {},
   "source": [
    "## Implementing our own method\n",
    "\n",
    "In order to better understand this process we implement our own method for solving. This involves first taking an euler step, that is, essentially solving a system of ODEs using the Euler method, and then correcting our quasi-solution by using the Newton method. \n",
    "\n",
    "The implementation starts by fixing a _Homotopy_, $H(x,t)$ which can be expressed in the form\n",
    "\n",
    "$$\n",
    "    H(x,t) = t \\cdot f(x) + (1 - t) \\cdot g(x)\n",
    "$$\n",
    "\n",
    "where $t \\in [0,1] \\subset \\mathbb{R}$ , $f(x)$ is our original system, and $g(x)$ is a simpler system of equations which we _know_ the solution to. We then need to advance time by some $\\Delta t$ and end up with the set of differential equations defined by the Euler method as\n",
    "\n",
    "$$\n",
    "    H(x + \\Delta x, t + \\Delta t) \\approx H(x,t) + \\frac{\\partial H}{\\partial x} \\Delta x\n",
    " + \\frac{\\partial H}{\\partial t} \\Delta t. \n",
    " $$\n",
    "\n",
    "Note that we know that we have $H(x,t) = 0$ as we started with a solution! Additionaly, we require that $H(x + \\Delta x, t + \\Delta t) = 0$ and we know what our time step $\\Delta t$ is. Thus, we need only solve the system \n",
    "\n",
    "$$\n",
    "    \\frac{\\partial H}{\\partial x} \\Delta x = -\\frac{\\partial H}{\\partial t} \\Delta t\n",
    "$$\n",
    "\n",
    "for $\\Delta x$. We then update our values of $t$ and $x$ by incrementing by $\\Delta t$ and $\\Delta x$ and then implement Newton to find values of $t$ and $x$ that lie on our curve. Finally, we step over all $\\Delta t$ until we get to $t = 1$ at which point $x$ will be a solution to our orriginal system!"
   ]
  },
  {
   "cell_type": "markdown",
   "metadata": {},
   "source": [
    "### Euler Step\n",
    "\n",
    "We write a function to compute a Euler step. "
   ]
  },
  {
   "cell_type": "code",
   "execution_count": 9,
   "metadata": {},
   "outputs": [
    {
     "data": {
      "text/plain": [
       "euler_step (generic function with 1 method)"
      ]
     },
     "execution_count": 9,
     "metadata": {},
     "output_type": "execute_result"
    }
   ],
   "source": [
    "function euler_step(H::System, Δt::Float64, x::Vector, t::Float64)\n",
    "    \n",
    "    #make four element Vector\n",
    "    xt = append!(x, t)\n",
    "\n",
    "    #get indices for vector subsetting\n",
    "    index = []\n",
    "    for i in 2:length(x)\n",
    "        append!(index, i)\n",
    "    end\n",
    "\n",
    "    #make jacobian and separate out dH/dx and dH/dt\n",
    "    J = jacobian(H, xt)\n",
    "    ∂H∂x = J[:,index]\n",
    "    ∂H∂t = J[:,1]\n",
    "\n",
    "    #set up system and solve for Δx\n",
    "    Δx = ∂H∂x \\ -(∂H∂t * Δt)\n",
    "\n",
    "    #update values for x and t\n",
    "    x = xt[index .- 1] + Δx\n",
    "    t = t + Δt\n",
    "\n",
    "    return x, t\n",
    "\n",
    "end"
   ]
  },
  {
   "cell_type": "markdown",
   "metadata": {},
   "source": [
    "Notice that this function can take systems / vectors of any length and is thus a general solution. Let's just make sure this works in practice as follows"
   ]
  },
  {
   "cell_type": "code",
   "execution_count": 3,
   "metadata": {},
   "outputs": [
    {
     "data": {
      "text/plain": [
       "2-element Vector{Float64}:\n",
       " 1.1333333333333333\n",
       " 1.8666666666666667"
      ]
     },
     "execution_count": 3,
     "metadata": {},
     "output_type": "execute_result"
    }
   ],
   "source": [
    "time = 0.0;\n",
    "Δt = 0.1; \n",
    "\n",
    "x = [1.0, 2.0]\n",
    "\n",
    "@var x1 x2 t\n",
    "f1 = t * x1^2 + x2\n",
    "f2 = x1 + x2 * t\n",
    "\n",
    "F = System([f1, f2])\n",
    "\n",
    "start, time = euler_step(F, Δt, x, time)\n",
    "start"
   ]
  },
  {
   "cell_type": "markdown",
   "metadata": {},
   "source": [
    "and we see that this works to first order approximation. "
   ]
  },
  {
   "cell_type": "markdown",
   "metadata": {},
   "source": [
    "### Newton Method\n",
    "\n",
    "We write a function to implement the newton method. This implementation requires `HomotopyContinuation.jl`. "
   ]
  },
  {
   "cell_type": "code",
   "execution_count": 4,
   "metadata": {},
   "outputs": [
    {
     "data": {
      "text/plain": [
       "newton_solve (generic function with 2 methods)"
      ]
     },
     "execution_count": 4,
     "metadata": {},
     "output_type": "execute_result"
    }
   ],
   "source": [
    "function newton_solve(start::Vector, F::System, tolerance::Float64 = 1e-15)\n",
    "\n",
    "    #evaluate initial point\n",
    "    tol = evaluate(F, start)\n",
    "\n",
    "    #check if initial point is solution\n",
    "    not_minimized = true\n",
    "    if tol == zeros(length(tol))\n",
    "        not_minimized = false\n",
    "    end\n",
    "    \n",
    "    i = 0\n",
    "    while (not_minimized && i < 501)\n",
    "        #test for convergence \n",
    "        if i == 500\n",
    "            error(\"Algorithm did not converge!\")\n",
    "        end\n",
    "\n",
    "        #solve linear system\n",
    "        J = jacobian(F, start)\n",
    "        start_new = J \\ -evaluate(F, start)\n",
    "\n",
    "        #update values\n",
    "        for i in 1:length(start)\n",
    "            start[i] = start_new[i] + start[i]\n",
    "        end\n",
    "        tol = evaluate(F, start)\n",
    "\n",
    "        #test if tolerance is reached\n",
    "        not_minimized = false\n",
    "        for i in 1:length(tol)\n",
    "            if abs(tol[i]) > tolerance\n",
    "                not_minimized = true\n",
    "            end\n",
    "        end\n",
    "        i += 1\n",
    "    end\n",
    "\n",
    "    return start\n",
    "end"
   ]
  },
  {
   "cell_type": "markdown",
   "metadata": {},
   "source": [
    "We note that this function also is general and can solve any problem. We verify this works on the complex numbers by"
   ]
  },
  {
   "cell_type": "code",
   "execution_count": 5,
   "metadata": {},
   "outputs": [
    {
     "data": {
      "text/plain": [
       "2-element Vector{ComplexF64}:\n",
       " -0.2933069324711349 - 0.4298373375930675im\n",
       " -0.5866138649422697 - 0.859674675186135im"
      ]
     },
     "execution_count": 5,
     "metadata": {},
     "output_type": "execute_result"
    }
   ],
   "source": [
    "@var x y\n",
    "f1 = x^2 + y^3 - 1\n",
    "f2 = 2*x - y\n",
    "F = System([f1, f2])\n",
    "p = randn(ComplexF64, 2)\n",
    "\n",
    "newton_solve(p, F)"
   ]
  },
  {
   "cell_type": "markdown",
   "metadata": {},
   "source": [
    "and check our answer using `HomotopyContinuation.jl`"
   ]
  },
  {
   "cell_type": "code",
   "execution_count": 26,
   "metadata": {},
   "outputs": [
    {
     "name": "stdout",
     "output_type": "stream",
     "text": [
      "\u001b[32mTracking 3 paths... 100%|███████████████████████████████| Time: 0:00:17\u001b[39m\n",
      "\u001b[34m  # paths tracked:                  3\u001b[39m\n",
      "\u001b[34m  # non-singular solutions (real):  3 (1)\u001b[39m\n",
      "\u001b[34m  # singular endpoints (real):      0 (0)\u001b[39m\n",
      "\u001b[34m  # total solutions (real):         3 (1)\u001b[39m\n"
     ]
    },
    {
     "data": {
      "text/plain": [
       "Result with 3 solutions\n",
       "=======================\n",
       "• 3 paths tracked\n",
       "• 3 non-singular solutions (1 real)\n",
       "• random_seed: 0x5093c109\n",
       "• start_system: :polyhedral\n"
      ]
     },
     "execution_count": 26,
     "metadata": {},
     "output_type": "execute_result"
    }
   ],
   "source": [
    "S = System([f1, f2])\n",
    "result = solve(S)"
   ]
  },
  {
   "cell_type": "code",
   "execution_count": 27,
   "metadata": {},
   "outputs": [
    {
     "data": {
      "text/plain": [
       "3-element Vector{Vector{ComplexF64}}:\n",
       " [-0.2933069324711348 - 0.42983733759306764im, -0.5866138649422696 - 0.8596746751861353im]\n",
       " [0.4616138649422696 - 2.407412430484045e-35im, 0.9232277298845392 - 4.81482486096809e-35im]\n",
       " [-0.2933069324711348 + 0.42983733759306764im, -0.5866138649422696 + 0.8596746751861353im]"
      ]
     },
     "execution_count": 27,
     "metadata": {},
     "output_type": "execute_result"
    }
   ],
   "source": [
    "solutions(result)"
   ]
  },
  {
   "cell_type": "markdown",
   "metadata": {},
   "source": [
    "### Path Tracking and Solving!\n",
    "\n",
    "We finally combine the two functions and return to the orriginal problem to solve the system of two equations. We will use \n",
    "\n",
    "$$\n",
    "f(x, y) = \\begin{pmatrix} f_1(x,y) \\\\ f_2(x, y) \\end{pmatrix}\n",
    "$$\n",
    "\n",
    "Notice that we need some $g(x)$. Let's use \n",
    "\n",
    "$$\n",
    "g(x, y) = \\begin{pmatrix} x^6 - 1 \\\\ y^3 - 1 \\end{pmatrix}\n",
    "$$\n",
    "\n",
    "which we _know_ has solutions \n",
    "\n",
    "$$\n",
    "    x = e^{ik\\frac{2\\pi}{6}}, k = 0,1,2,3,4,5\n",
    "$$\n",
    "\n",
    "and\n",
    "\n",
    "$$\n",
    "    y = e^{i\\ell\\frac{2\\pi}{3}}, \\ell = 0,1,2\n",
    "$$\n",
    "\n",
    "and we see that we will have 18 total solutions. Let's implement this model and find the solution when $k = 0, \\ell = 0$ to see if we get a solution that `HomotopyContinuation.jl` got. "
   ]
  },
  {
   "cell_type": "code",
   "execution_count": 5,
   "metadata": {},
   "outputs": [
    {
     "data": {
      "text/plain": [
       "path_track (generic function with 1 method)"
      ]
     },
     "execution_count": 5,
     "metadata": {},
     "output_type": "execute_result"
    }
   ],
   "source": [
    "function path_track(H::System, start::Vector, Δt::Float64)\n",
    "\n",
    "    time = 0.0\n",
    "    tot_steps = 1 / Δt\n",
    "\n",
    "    i = 0\n",
    "    while i < tot_steps\n",
    "        start, time = euler_step(H, Δt, start, time)\n",
    "        start = newton_solve(start, System(evaluate(H, [time, x, y])), 1e-12)\n",
    "        i += 1\n",
    "    end\n",
    "\n",
    "    return start; \n",
    "end"
   ]
  },
  {
   "cell_type": "markdown",
   "metadata": {},
   "source": [
    "Notice that this function is _not_ general and will only work for two-variable systems in variables $x$ and $y$. This can easily be modified by small changes to our code. We then evaluate our function"
   ]
  },
  {
   "cell_type": "code",
   "execution_count": 15,
   "metadata": {},
   "outputs": [
    {
     "data": {
      "text/plain": [
       "2-element Vector{ComplexF64}:\n",
       "  0.8209788924342625 - 1.2096476015712636e-18im\n",
       " -0.6971326459489465 - 3.947676315116146e-17im"
      ]
     },
     "execution_count": 15,
     "metadata": {},
     "output_type": "execute_result"
    }
   ],
   "source": [
    "#construct System\n",
    "@var x y t \n",
    "fg1 = ((x^4 + y^4 - 1) * (x^2 + y^2 - 2) + x^5 * y) * t + (1 - t) * (x^6 - 1)\n",
    "fg2 = (x^2 + 2*x*y^2 - 2*y^2 - 1/2) * t + (1 - t) * (y^3 - 1)\n",
    "FS = System([fg1, fg2])\n",
    "\n",
    "start_sol = [exp(im*0*π/6), exp(im*0*π/3)]\n",
    "\n",
    "Δt = 0.001\n",
    "\n",
    "path_track(FS, start_sol, Δt)"
   ]
  },
  {
   "cell_type": "markdown",
   "metadata": {},
   "source": [
    "Note that this is one of the points that `HomotopyContinuation` got! Let's now find _all_ of the points by defining yet another function that scans all the first points we give it and then solves. "
   ]
  },
  {
   "cell_type": "code",
   "execution_count": 10,
   "metadata": {},
   "outputs": [
    {
     "data": {
      "text/plain": [
       "homotopy_solve (generic function with 1 method)"
      ]
     },
     "execution_count": 10,
     "metadata": {},
     "output_type": "execute_result"
    }
   ],
   "source": [
    "function homotopy_solve(H::System)\n",
    "\n",
    "    #set time step\n",
    "    Δt = 0.001\n",
    "\n",
    "    #open array for appending solutions\n",
    "    solutions = []\n",
    "\n",
    "    #compute all solutions\n",
    "    #this only works for two equations which have degrees of 6 and 3 respectively \n",
    "    for i in 0:5\n",
    "        for j in 0:2\n",
    "            start = [exp(i*im*2*π/6), exp(j*im*2*π/3)]\n",
    "            sol = path_track(H, start, Δt)\n",
    "            push!(solutions, sol)\n",
    "        end\n",
    "    end\n",
    "\n",
    "    return solutions\n",
    "\n",
    "end"
   ]
  },
  {
   "cell_type": "markdown",
   "metadata": {},
   "source": [
    "Notice that, again, our function is _not_ general. Now it can only solve the two variable case with polynomial degrees of six and three as our problem is. This can be easily changed by small modifications of our code. We then find the solutions by implementing our method. "
   ]
  },
  {
   "cell_type": "code",
   "execution_count": 16,
   "metadata": {},
   "outputs": [
    {
     "data": {
      "text/plain": [
       "18-element Vector{Any}:\n",
       " ComplexF64[0.8209788924342625 - 1.2096476015712636e-18im, -0.6971326459489465 - 3.947676315116146e-17im]\n",
       " ComplexF64[0.9443571312488817 + 0.3118635017972665im, 0.3208381852903997 + 0.9677296009728291im]\n",
       " ComplexF64[0.9443571312488817 - 0.3118635017972665im, 0.3208381852903997 - 0.9677296009728291im]\n",
       " ComplexF64[1.713294137558267 + 0.5813863945698415im, 0.04751413478085409 - 1.2527929510076878im]\n",
       " ComplexF64[0.07565391048031049 + 0.9487419814734106im, -0.24800445792173492 + 0.6838307098593375im]\n",
       " ComplexF64[0.8999179208471724 + 1.577903428960801e-20im, -1.244182761342273 - 2.0837887478012815e-18im]\n",
       " ComplexF64[0.06944255588971956 + 1.0734210145259258im, 0.2852544211796043 - 0.7076856100161801im]\n",
       " ComplexF64[-1.0665536440076715 + 0.1424944286215246im, -0.3998429331325369 + 0.07871238147493335im]\n",
       " ComplexF64[1.0866676911062139 + 0.32907006699787644im, -0.2404810670866118 - 1.1350215823993675im]\n",
       " ComplexF64[0.8209788924342625 - 1.2096476015712636e-18im, -0.6971326459489465 - 3.947676315116146e-17im]\n",
       " ComplexF64[-1.6714213928380037 - 1.0186441737974984e-16im, 0.655205185872041 - 1.3262203461352321e-17im]\n",
       " ComplexF64[-1.6714213928380037 + 1.0186441737975248e-16im, 0.655205185872041 + 1.3262203461352648e-17im]\n",
       " ComplexF64[0.06944255588971956 - 1.0734210145259258im, 0.2852544211796043 + 0.7076856100161801im]\n",
       " ComplexF64[1.0866676911062139 - 0.32907006699787644im, -0.2404810670866118 + 1.1350215823993675im]\n",
       " ComplexF64[-1.0665536440076715 - 0.1424944286215246im, -0.3998429331325369 - 0.07871238147493335im]\n",
       " ComplexF64[1.713294137558267 - 0.5813863945698415im, 0.04751413478085409 + 1.2527929510076878im]\n",
       " ComplexF64[0.8999179208471724 - 1.577903428960801e-20im, -1.244182761342273 + 2.0837887478012815e-18im]\n",
       " ComplexF64[0.07565391048031049 - 0.9487419814734106im, -0.24800445792173492 - 0.6838307098593375im]"
      ]
     },
     "execution_count": 16,
     "metadata": {},
     "output_type": "execute_result"
    }
   ],
   "source": [
    "#solve them thangs\n",
    "sol2 = homotopy_solve(FS)"
   ]
  },
  {
   "cell_type": "markdown",
   "metadata": {},
   "source": [
    "Notice that these are the same solutions that `HomotopyContinuation` got! Discrepancies arrise for values that are effectively zero, otherwise our answer is exactly the same as the above solution. \n",
    "\n",
    "## Conclusions\n",
    "\n",
    "We were able to implement concepts of Homotopy Coninuation to find all of the solutions to our system of equations. Of course, making our functions general, i.e. able to solve _any_ system of equations is possible, but putting the work in to implement this is rather pointless as `HomotopyContinuation.jl` does a fantastic job of solving any system of equations in just a few lines of code (and we're already using functions from `HomotopyContinuation.jl` for our implementation). The above implementation shows, however, how powerful techniques in Homotopy Continuation can be in solving polynomial equations and how easy these methods are to implement. "
   ]
  }
 ],
 "metadata": {
  "interpreter": {
   "hash": "f22a20af907fde35ff19e1e892fdb271353fb19b11c7ebd774491472e685293c"
  },
  "kernelspec": {
   "display_name": "Julia 1.7.0-beta3",
   "language": "julia",
   "name": "julia-1.7"
  },
  "language_info": {
   "file_extension": ".jl",
   "mimetype": "application/julia",
   "name": "julia",
   "version": "1.7.0"
  },
  "orig_nbformat": 4
 },
 "nbformat": 4,
 "nbformat_minor": 2
}
